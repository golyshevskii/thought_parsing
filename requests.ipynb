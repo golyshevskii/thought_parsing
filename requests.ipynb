{
 "cells": [
  {
   "cell_type": "markdown",
   "metadata": {},
   "source": [
    "сайт для тестирования запросов\n",
    "\n",
    "http://httpbin.org/\n"
   ]
  },
  {
   "cell_type": "code",
   "execution_count": 3,
   "metadata": {},
   "outputs": [
    {
     "name": "stdout",
     "output_type": "stream",
     "text": [
      "<Response [200]> <class 'requests.models.Response'>\n"
     ]
    }
   ],
   "source": [
    "import requests\n",
    "# from requests.models import Response\n",
    "\n",
    "response = requests.get(url='http://httpbin.org/')\n",
    "print(response, type(response))"
   ]
  },
  {
   "cell_type": "markdown",
   "metadata": {},
   "source": [
    "коды ответа HTTP\n",
    "\n",
    "+ информационные 100 - 199\n",
    "+ успешные 200 - 299\n",
    "+ перенаправления 300 - 399\n",
    "+ клиентские ошибки 400 - 499\n",
    "+ серверные ошибки 500 - 599\n",
    "\n",
    "HTTP заголовки\n",
    "\n",
    "https://developer.mozilla.org/ru/docs/Web/HTTP/Headers\n",
    "\n",
    "например, `user-agent`\n",
    "> используется для отображения страницы под браузер и множественных фейковых запросов\n",
    "\n",
    "> проверить текущее значение можно, введя в адресной строке `about:`"
   ]
  },
  {
   "cell_type": "code",
   "execution_count": 7,
   "metadata": {},
   "outputs": [
    {
     "name": "stdout",
     "output_type": "stream",
     "text": [
      "status: 200\n",
      "user-agent:\n",
      "{\n",
      "  \"user-agent\": \"python-requests/2.28.1\"\n",
      "}\n",
      "\n"
     ]
    }
   ],
   "source": [
    "response = requests.get(url='http://httpbin.org/user-agent')\n",
    "print(f'status: {response.status_code}\\nuser-agent:\\n{response.text}')"
   ]
  },
  {
   "cell_type": "code",
   "execution_count": 11,
   "metadata": {},
   "outputs": [
    {
     "name": "stdout",
     "output_type": "stream",
     "text": [
      "status: 200\n",
      "user-agent:\n",
      "{\n",
      "  \"user-agent\": \"Mozilla/5.0 (Windows NT 10.0; Win64; x64) AppleWebKit/537.36 (KHTML, like Gecko) Chrome/99.0.4844.84 Safari/537.36\"\n",
      "}\n",
      "\n"
     ]
    }
   ],
   "source": [
    "headers = {\n",
    "    'user-agent': 'Mozilla/5.0 (Windows NT 10.0; Win64; x64) AppleWebKit/537.36 (KHTML, like Gecko) Chrome/99.0.4844.84 Safari/537.36'\n",
    "}\n",
    "\n",
    "response = requests.get(url='http://httpbin.org/user-agent', headers=headers)\n",
    "print(f'status: {response.status_code}\\nuser-agent:\\n{response.text}')"
   ]
  },
  {
   "cell_type": "code",
   "execution_count": 31,
   "metadata": {},
   "outputs": [
    {
     "name": "stdout",
     "output_type": "stream",
     "text": [
      "status: 200\n",
      "user-agent:\n",
      "{\n",
      "  \"user-agent\": \"Mozilla/5.0 (Windows NT 10.0; WOW64; rv:45.0) Gecko/20100101 Firefox/45.0\"\n",
      "}\n",
      "\n",
      "status: 200\n",
      "user-agent:\n",
      "{\n",
      "  \"user-agent\": \"Mozilla/5.0 (Windows NT 10.0; WOW64) AppleWebKit/537.36 (KHTML, like Gecko) Chrome/85.0.4183.102 YaBrowser/20.9.3.136 Yowser/2.5 Safari/537.36\"\n",
      "}\n",
      "\n"
     ]
    }
   ],
   "source": [
    "# симуляция фейковых users через файл заголовков\n",
    "def user_agent(n):\n",
    "    with open('./headers/user_agent.txt') as file:\n",
    "        i = 0\n",
    "        while i < n:\n",
    "            response = requests.get(url='http://httpbin.org/user-agent', \n",
    "                                headers={'user-agent': file.readline().strip('\\n')})\n",
    "            yield response\n",
    "            i += 1\n",
    "\n",
    "\n",
    "for res in user_agent(2): \n",
    "    print(f'status: {res.status_code}\\nuser-agent:\\n{res.text}')\n"
   ]
  },
  {
   "cell_type": "code",
   "execution_count": 23,
   "metadata": {},
   "outputs": [
    {
     "name": "stdout",
     "output_type": "stream",
     "text": [
      "status: 200\n",
      "user-agent:\n",
      "{\n",
      "  \"user-agent\": \"Mozilla/5.0 (Windows NT 5.1; U) Opera 7.54  [de]\"\n",
      "}\n",
      "\n",
      "status: 200\n",
      "user-agent:\n",
      "{\n",
      "  \"user-agent\": \"Mozilla/5.0 (Windows NT 6.2; WOW64; rv:63.0) Gecko/20100101 Firefox/63.0\"\n",
      "}\n",
      "\n"
     ]
    }
   ],
   "source": [
    "# симуляция фейковых users через библиотеку\n",
    "import fake_useragent as fu\n",
    "import requests as r\n",
    "\n",
    "\n",
    "ua = fu.UserAgent()\n",
    "\n",
    "for i in range(2):\n",
    "    response = r.get(url='http://httpbin.org/user-agent',\n",
    "                     headers={'user-agent': ua.random})\n",
    "    print(f'status: {response.status_code}\\nuser-agent:\\n{response.text}')\n"
   ]
  },
  {
   "cell_type": "markdown",
   "metadata": {},
   "source": [
    "прокси `proxies`\n",
    "\n",
    "> способы скрыть IP адрес, для предотвращения бана"
   ]
  },
  {
   "cell_type": "code",
   "execution_count": 38,
   "metadata": {},
   "outputs": [
    {
     "name": "stdout",
     "output_type": "stream",
     "text": [
      "ip: 185.162.230.155:80\n",
      "ip: 185.162.231.111:80\n",
      "ip: 185.162.231.202:80\n",
      "ip: 185.162.231.29:80\n",
      "ip: 185.162.230.121:80\n"
     ]
    }
   ],
   "source": [
    "import requests as r\n",
    "import fake_useragent as fu\n",
    "\n",
    "\n",
    "def proxy(n):\n",
    "    with open('./proxies/fake_ip.txt') as file:\n",
    "        i = 0\n",
    "        ua = fu.UserAgent()\n",
    "        while i < n:\n",
    "            ip = file.readline().strip('\\n')\n",
    "            print(f'ip: {ip}')\n",
    "            response = r.get(url='http://httpbin.org/ip',\n",
    "                             headers={'user-agent': ua.random},\n",
    "                             proxies={'http': f'http://{ip}', 'https': f'https://{ip}'})\n",
    "            i += 1           \n",
    "            if response.status_code != 200:\n",
    "                continue\n",
    "\n",
    "            yield response\n",
    "\n",
    "\n",
    "for res in proxy(5):\n",
    "    print(f'status: {res.status_code}\\ntext:\\n{res.json()}')"
   ]
  },
  {
   "cell_type": "markdown",
   "metadata": {},
   "source": [
    "установка время ожидания ответа на запрос через параметр `timeout`"
   ]
  },
  {
   "cell_type": "code",
   "execution_count": 47,
   "metadata": {},
   "outputs": [
    {
     "name": "stdout",
     "output_type": "stream",
     "text": [
      "ip: 185.162.230.155:80\n",
      "ip: 185.162.231.111:80\n",
      "ip: 185.162.231.202:80\n",
      "ip: 200.12.55.90:80\n",
      "error: HTTPConnectionPool(host='200.12.55.90', port=80): Max retries exceeded with url: http://httpbin.org/ip (Caused by ConnectTimeoutError(<urllib3.connection.HTTPConnection object at 0x113fd3880>, 'Connection to 200.12.55.90 timed out. (connect timeout=2)'))\n",
      "seconds: 2.00\n",
      "ip: 185.162.231.29:80\n"
     ]
    }
   ],
   "source": [
    "import requests as r\n",
    "from fake_useragent import UserAgent\n",
    "from time import perf_counter\n",
    "\n",
    "\n",
    "def proxy(n):\n",
    "    with open('./proxies/fake_ip.txt') as file:\n",
    "        i = 0\n",
    "        ua = UserAgent()\n",
    "        while i < n:\n",
    "            ip = file.readline().strip('\\n')\n",
    "            print(f'ip: {ip}')\n",
    "            start = perf_counter()\n",
    "            try:\n",
    "                i += 1\n",
    "                response = r.get(url='http://httpbin.org/ip',\n",
    "                             headers={'user-agent': ua.random},\n",
    "                             proxies={'http': f'http://{ip}', 'https': f'https://{ip}'},\n",
    "                             timeout=2)\n",
    "            except Exception as ex:\n",
    "                print(f'error: {ex}\\nseconds: {perf_counter() - start:.2f}')\n",
    "                continue\n",
    "            \n",
    "            if response.status_code != 200:\n",
    "                continue\n",
    "            yield response\n",
    "\n",
    "\n",
    "for res in proxy(5):\n",
    "    print(f'status: {res.status_code}\\ntext:\\n{res.text}')"
   ]
  },
  {
   "cell_type": "markdown",
   "metadata": {},
   "source": [
    "добавление параметров к запросу"
   ]
  },
  {
   "cell_type": "code",
   "execution_count": 48,
   "metadata": {},
   "outputs": [
    {
     "data": {
      "text/plain": [
       "'http://httpbin.org/ip?key1=value1&key2=value2'"
      ]
     },
     "execution_count": 48,
     "metadata": {},
     "output_type": "execute_result"
    }
   ],
   "source": [
    "url = 'http://httpbin.org/ip'\n",
    "params = {'key1': 'value1', 'key2': 'value2'}\n",
    "response = r.get(url=url, \n",
    "                 headers={'user-agent': ua.random},\n",
    "                 params=params,\n",
    "                 timeout=2)\n",
    "response.url"
   ]
  },
  {
   "cell_type": "markdown",
   "metadata": {},
   "source": [
    "скачивание видео файла"
   ]
  },
  {
   "cell_type": "code",
   "execution_count": 55,
   "metadata": {},
   "outputs": [
    {
     "name": "stdout",
     "output_type": "stream",
     "text": [
      "video is downloaded (11.252302169799805)\n",
      "pls, check video_1.mp4 file\n",
      "execution time: 33.827 seconds\n"
     ]
    }
   ],
   "source": [
    "import requests as r\n",
    "from os.path import getsize\n",
    "from time import time\n",
    "\n",
    "\n",
    "def download_mp4():\n",
    "    try:\n",
    "        response = r.get(url=url, stream=True)\n",
    "    except Exception as ex:\n",
    "        return f'request error:\\n{ex}'\n",
    "\n",
    "    with open('./data/video_1.mp4', 'wb') as file_mp4:\n",
    "        file_mp4.write(response.content)\n",
    "\n",
    "    size = getsize('./data/video_1.mp4')\n",
    "    return f'video is downloaded ({size / (1024 * 1024)})\\npls, check video_1.mp4 file'\n",
    "\n",
    "\n",
    "url = 'https://parsinger.ru/video_downloads/videoplayback.mp4'\n",
    "s = time()\n",
    "print(download_mp4())\n",
    "e = time()\n",
    "\n",
    "print(f'execution time: {(e - s):.3f} seconds')"
   ]
  },
  {
   "cell_type": "markdown",
   "metadata": {},
   "source": [
    "поиск статуса 200"
   ]
  },
  {
   "cell_type": "code",
   "execution_count": 59,
   "metadata": {},
   "outputs": [
    {
     "name": "stdout",
     "output_type": "stream",
     "text": [
      "<!DOCTYPE html>\n",
      "<html lang=\"en\">\n",
      "<head>\n",
      "\t<meta charset=\"UTF-8\">\n",
      "\t<meta name=\"viewport\" content=\"width=device-width, initial-scale=1.0\">\n",
      "\t<title>Document</title>\n",
      "</head>\n",
      "<body>\n",
      "\t9876316843187416358741341687416874165432\n",
      "</body>\n",
      "</html>\n"
     ]
    }
   ],
   "source": [
    "for i in range(1, 501):\n",
    "    response = r.get(f'https://parsinger.ru/task/1/{i}.html')\n",
    "    if response.status_code == 200:\n",
    "        print(response.text)\n",
    "        break\n"
   ]
  },
  {
   "cell_type": "markdown",
   "metadata": {},
   "source": [
    "тусовочка с содержимым response\n",
    "\n",
    "https://jsonplaceholder.typicode.com/todos/"
   ]
  },
  {
   "cell_type": "code",
   "execution_count": 61,
   "metadata": {},
   "outputs": [
    {
     "data": {
      "text/plain": [
       "[{'userId': 1, 'id': 1, 'title': 'delectus aut autem', 'completed': False},\n",
       " {'userId': 1,\n",
       "  'id': 2,\n",
       "  'title': 'quis ut nam facilis et officia qui',\n",
       "  'completed': False}]"
      ]
     },
     "execution_count": 61,
     "metadata": {},
     "output_type": "execute_result"
    }
   ],
   "source": [
    "import requests as r\n",
    "\n",
    "\n",
    "response = r.get(url='https://jsonplaceholder.typicode.com/todos/')\n",
    "response.json()[:2]"
   ]
  },
  {
   "cell_type": "markdown",
   "metadata": {},
   "source": [
    "скачивание изображений"
   ]
  },
  {
   "cell_type": "code",
   "execution_count": 62,
   "metadata": {},
   "outputs": [
    {
     "ename": "TypeError",
     "evalue": "'tuple' object does not support item assignment",
     "output_type": "error",
     "traceback": [
      "\u001b[0;31m---------------------------------------------------------------------------\u001b[0m",
      "\u001b[0;31mTypeError\u001b[0m                                 Traceback (most recent call last)",
      "Cell \u001b[0;32mIn[62], line 9\u001b[0m\n\u001b[1;32m      7\u001b[0m size \u001b[39m=\u001b[39m \u001b[39mlen\u001b[39m(response\u001b[39m.\u001b[39mcontent)\n\u001b[1;32m      8\u001b[0m \u001b[39mif\u001b[39;00m size \u001b[39min\u001b[39;00m data:\n\u001b[0;32m----> 9\u001b[0m     data[size][\u001b[39m0\u001b[39;49m] \u001b[39m+\u001b[39m\u001b[39m=\u001b[39m \u001b[39m1\u001b[39m\n\u001b[1;32m     10\u001b[0m     data[size][\u001b[39m1\u001b[39m]\u001b[39m.\u001b[39mappend(i)\n\u001b[1;32m     11\u001b[0m \u001b[39melse\u001b[39;00m:\n",
      "\u001b[0;31mTypeError\u001b[0m: 'tuple' object does not support item assignment"
     ]
    }
   ],
   "source": [
    "import requests as r\n",
    "from os.path import getsize\n",
    "\n",
    "data = {}\n",
    "for i in range(1, 161):\n",
    "    response = r.get(url=f'https://parsinger.ru/img_download/img/ready/{i}.png')\n",
    "    size = len(response.content)\n",
    "    if size in data:\n",
    "        data[size][0].append(1)\n",
    "        data[size][1].append(i)\n",
    "    else:\n",
    "        data[size] = (list(), list())\n",
    "\n",
    "print(sorted(data.items(), key=lambda x: x[0]))"
   ]
  },
  {
   "cell_type": "code",
   "execution_count": null,
   "metadata": {},
   "outputs": [],
   "source": []
  }
 ],
 "metadata": {
  "kernelspec": {
   "display_name": "Python 3.10.7 ('venv': venv)",
   "language": "python",
   "name": "python3"
  },
  "language_info": {
   "codemirror_mode": {
    "name": "ipython",
    "version": 3
   },
   "file_extension": ".py",
   "mimetype": "text/x-python",
   "name": "python",
   "nbconvert_exporter": "python",
   "pygments_lexer": "ipython3",
   "version": "3.10.7"
  },
  "orig_nbformat": 4,
  "vscode": {
   "interpreter": {
    "hash": "5248c6140bb1bc7983f19dc212dbb6a0401a8072d7154f9561185cab8aaa3627"
   }
  }
 },
 "nbformat": 4,
 "nbformat_minor": 2
}
